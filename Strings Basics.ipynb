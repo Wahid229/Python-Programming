{
 "cells": [
  {
   "cell_type": "code",
   "execution_count": 2,
   "id": "f552b749",
   "metadata": {},
   "outputs": [
    {
     "name": "stdout",
     "output_type": "stream",
     "text": [
      "hello world\n"
     ]
    }
   ],
   "source": [
    "print(\"hello world\")"
   ]
  },
  {
   "cell_type": "code",
   "execution_count": 1,
   "id": "85bb1edd",
   "metadata": {},
   "outputs": [],
   "source": [
    "mystring=\"hello world\""
   ]
  },
  {
   "cell_type": "code",
   "execution_count": 2,
   "id": "bea4de98",
   "metadata": {},
   "outputs": [
    {
     "data": {
      "text/plain": [
       "'hello world'"
      ]
     },
     "execution_count": 2,
     "metadata": {},
     "output_type": "execute_result"
    }
   ],
   "source": [
    "mystring"
   ]
  },
  {
   "cell_type": "code",
   "execution_count": 3,
   "id": "3dd29930",
   "metadata": {},
   "outputs": [
    {
     "data": {
      "text/plain": [
       "'dlrow olleh'"
      ]
     },
     "execution_count": 3,
     "metadata": {},
     "output_type": "execute_result"
    }
   ],
   "source": [
    "mystring[::-1]"
   ]
  },
  {
   "cell_type": "markdown",
   "id": "9880254a",
   "metadata": {},
   "source": [
    "mystring"
   ]
  },
  {
   "cell_type": "code",
   "execution_count": 4,
   "id": "f0f9f257",
   "metadata": {},
   "outputs": [
    {
     "data": {
      "text/plain": [
       "'hello world'"
      ]
     },
     "execution_count": 4,
     "metadata": {},
     "output_type": "execute_result"
    }
   ],
   "source": [
    "mystring"
   ]
  },
  {
   "cell_type": "code",
   "execution_count": 8,
   "id": "7dfdff86",
   "metadata": {},
   "outputs": [
    {
     "data": {
      "text/plain": [
       "['hello', 'world']"
      ]
     },
     "execution_count": 8,
     "metadata": {},
     "output_type": "execute_result"
    }
   ],
   "source": [
    "mystring.split()"
   ]
  },
  {
   "cell_type": "code",
   "execution_count": 9,
   "id": "7686b272",
   "metadata": {},
   "outputs": [],
   "source": [
    "x=mystring"
   ]
  },
  {
   "cell_type": "code",
   "execution_count": 10,
   "id": "a8b52ef2",
   "metadata": {},
   "outputs": [
    {
     "data": {
      "text/plain": [
       "'hello world'"
      ]
     },
     "execution_count": 10,
     "metadata": {},
     "output_type": "execute_result"
    }
   ],
   "source": [
    "x"
   ]
  },
  {
   "cell_type": "code",
   "execution_count": 12,
   "id": "c1879a45",
   "metadata": {},
   "outputs": [
    {
     "data": {
      "text/plain": [
       "['he', '', 'o wor', 'd']"
      ]
     },
     "execution_count": 12,
     "metadata": {},
     "output_type": "execute_result"
    }
   ],
   "source": [
    "x.split(\"l\")"
   ]
  },
  {
   "cell_type": "markdown",
   "id": "65291fec",
   "metadata": {},
   "source": [
    "# formating with String using format"
   ]
  },
  {
   "cell_type": "code",
   "execution_count": 32,
   "id": "b67b241c",
   "metadata": {},
   "outputs": [
    {
     "name": "stdout",
     "output_type": "stream",
     "text": [
      "fox brown quick\n"
     ]
    }
   ],
   "source": [
    "string1=\"{} {} {}\".format('fox','brown','quick')\n",
    "print(string1)"
   ]
  },
  {
   "cell_type": "code",
   "execution_count": 33,
   "id": "fa1f232f",
   "metadata": {},
   "outputs": [
    {
     "name": "stdout",
     "output_type": "stream",
     "text": [
      "the fox brown quick\n"
     ]
    }
   ],
   "source": [
    "print('the {} {} {}'.format('fox','brown','quick'))"
   ]
  },
  {
   "cell_type": "code",
   "execution_count": 34,
   "id": "03cec729",
   "metadata": {},
   "outputs": [
    {
     "name": "stdout",
     "output_type": "stream",
     "text": [
      "the brown fox quick\n"
     ]
    }
   ],
   "source": [
    "print('the {1} {0} {2}'.format('fox','brown','quick'))"
   ]
  },
  {
   "cell_type": "code",
   "execution_count": 35,
   "id": "4f5996cb",
   "metadata": {},
   "outputs": [
    {
     "name": "stdout",
     "output_type": "stream",
     "text": [
      "the quick brown fox\n"
     ]
    }
   ],
   "source": [
    "print('the {q} {b} {f}'.format(f='fox',b='brown',q='quick'))"
   ]
  },
  {
   "cell_type": "code",
   "execution_count": 36,
   "id": "2941bd51",
   "metadata": {},
   "outputs": [],
   "source": [
    "result=100/777"
   ]
  },
  {
   "cell_type": "code",
   "execution_count": 37,
   "id": "81277e5a",
   "metadata": {},
   "outputs": [
    {
     "data": {
      "text/plain": [
       "0.1287001287001287"
      ]
     },
     "execution_count": 37,
     "metadata": {},
     "output_type": "execute_result"
    }
   ],
   "source": [
    "result"
   ]
  },
  {
   "cell_type": "code",
   "execution_count": 41,
   "id": "fb39e3f3",
   "metadata": {},
   "outputs": [
    {
     "name": "stdout",
     "output_type": "stream",
     "text": [
      "the result is 0.1287001287001287\n"
     ]
    }
   ],
   "source": [
    "print('the result is {}'.format(result))"
   ]
  },
  {
   "cell_type": "code",
   "execution_count": 43,
   "id": "b06de93f",
   "metadata": {
    "scrolled": false
   },
   "outputs": [
    {
     "name": "stdout",
     "output_type": "stream",
     "text": [
      "the result is 0.1287001287001287\n"
     ]
    }
   ],
   "source": [
    "print('the result is {r}'.format(r=result))"
   ]
  },
  {
   "cell_type": "code",
   "execution_count": 44,
   "id": "91056013",
   "metadata": {},
   "outputs": [
    {
     "name": "stdout",
     "output_type": "stream",
     "text": [
      "the result is 0.129\n"
     ]
    }
   ],
   "source": [
    "print('the result is {r:1.3f}'.format(r=result))"
   ]
  },
  {
   "cell_type": "code",
   "execution_count": 45,
   "id": "0379d69a",
   "metadata": {},
   "outputs": [
    {
     "name": "stdout",
     "output_type": "stream",
     "text": [
      "the result is      0.129\n"
     ]
    }
   ],
   "source": [
    "print('the result is {r:10.3f}'.format(r=result))"
   ]
  },
  {
   "cell_type": "code",
   "execution_count": 62,
   "id": "9aef6171",
   "metadata": {},
   "outputs": [
    {
     "name": "stdout",
     "output_type": "stream",
     "text": [
      "elloh\n",
      "lloe\n",
      "hello\n"
     ]
    }
   ],
   "source": [
    "s=\"hello\"\n",
    "print(s[1:] + s[0])\n",
    "p='ello'\n",
    "print(p[1:]+p[0])\n",
    "print(s)"
   ]
  },
  {
   "cell_type": "code",
   "execution_count": 49,
   "id": "c410c987",
   "metadata": {},
   "outputs": [
    {
     "name": "stdout",
     "output_type": "stream",
     "text": [
      "The original string is : Geeksforgeeks\n",
      "The reversed string(using recursion) is : skeegrofskeeG\n"
     ]
    }
   ],
   "source": [
    "# Python code to reverse a string\n",
    "# using recursion\n",
    "\n",
    "def reverse(s):\n",
    "\tif len(s) == 0:\n",
    "\t\treturn s\n",
    "\telse:\n",
    "\t\treturn reverse(s[1:]) + s[0]\n",
    "\n",
    "s = \"Geeksforgeeks\"\n",
    "\n",
    "print (\"The original string is : \",end=\"\")\n",
    "print (s)\n",
    "\n",
    "print (\"The reversed string(using recursion) is : \",end=\"\")\n",
    "print (reverse(s))\n"
   ]
  },
  {
   "cell_type": "code",
   "execution_count": 64,
   "id": "ad834a13",
   "metadata": {},
   "outputs": [
    {
     "name": "stdout",
     "output_type": "stream",
     "text": [
      "No. of vowels : 5\n"
     ]
    }
   ],
   "source": [
    "# Python3 code to count vowel in\n",
    "# a string using set\n",
    "\n",
    "# Function to count vowel\n",
    "def vowel_count(str):\n",
    "\t\n",
    "\t# Initializing count variable to 0\n",
    "\tcount = 0\n",
    "\t\n",
    "\t# Creating a set of vowels\n",
    "\tvowel = set(\"aeiouAEIOU\")\n",
    "\t\n",
    "\t# Loop to traverse the alphabet\n",
    "\t# in the given string\n",
    "\tfor alpha in str:\n",
    "\t\n",
    "\t\t# If alphabet is present\n",
    "\t\t# in set vowel\n",
    "\t\tif alpha in vowel:\n",
    "\t\t\tcount = count + 1\n",
    "\t\n",
    "\tprint(\"No. of vowels :\", count)\n",
    "\t\n",
    "# Driver code\n",
    "str = \"GeeksforGeeks\"\n",
    "\n",
    "# Function Call\n",
    "vowel_count(str)\n"
   ]
  },
  {
   "cell_type": "code",
   "execution_count": 1,
   "id": "da19974f",
   "metadata": {},
   "outputs": [
    {
     "name": "stdout",
     "output_type": "stream",
     "text": [
      "thefrndcame\n"
     ]
    }
   ],
   "source": [
    "print('{}{}{}'.format('the','frnd','came'))"
   ]
  },
  {
   "cell_type": "code",
   "execution_count": null,
   "id": "c6e8e49c",
   "metadata": {},
   "outputs": [],
   "source": []
  }
 ],
 "metadata": {
  "kernelspec": {
   "display_name": "Python 3 (ipykernel)",
   "language": "python",
   "name": "python3"
  },
  "language_info": {
   "codemirror_mode": {
    "name": "ipython",
    "version": 3
   },
   "file_extension": ".py",
   "mimetype": "text/x-python",
   "name": "python",
   "nbconvert_exporter": "python",
   "pygments_lexer": "ipython3",
   "version": "3.9.7"
  }
 },
 "nbformat": 4,
 "nbformat_minor": 5
}
