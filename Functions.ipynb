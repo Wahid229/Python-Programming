{
 "cells": [
  {
   "cell_type": "code",
   "execution_count": 1,
   "id": "907fe758",
   "metadata": {},
   "outputs": [
    {
     "name": "stdout",
     "output_type": "stream",
     "text": [
      "hello\n"
     ]
    }
   ],
   "source": [
    "def sayhello():\n",
    "    print('hello')\n",
    "sayhello()"
   ]
  },
  {
   "cell_type": "code",
   "execution_count": 2,
   "id": "61a17a00",
   "metadata": {},
   "outputs": [
    {
     "name": "stdout",
     "output_type": "stream",
     "text": [
      "hello wahid\n"
     ]
    }
   ],
   "source": [
    "def sayhello1(name):\n",
    "    print('hello',name)\n",
    "sayhello1('wahid')"
   ]
  },
  {
   "cell_type": "code",
   "execution_count": 3,
   "id": "4e2aadc9",
   "metadata": {},
   "outputs": [],
   "source": [
    "#Diff between print and result"
   ]
  },
  {
   "cell_type": "code",
   "execution_count": 4,
   "id": "b98250c0",
   "metadata": {},
   "outputs": [],
   "source": [
    "def add1(a,b):\n",
    "    print(a+b)"
   ]
  },
  {
   "cell_type": "code",
   "execution_count": 5,
   "id": "a71279f1",
   "metadata": {},
   "outputs": [
    {
     "name": "stdout",
     "output_type": "stream",
     "text": [
      "3\n"
     ]
    }
   ],
   "source": [
    "add1(1,2)"
   ]
  },
  {
   "cell_type": "code",
   "execution_count": 6,
   "id": "28efd825",
   "metadata": {},
   "outputs": [
    {
     "name": "stdout",
     "output_type": "stream",
     "text": [
      "3\n"
     ]
    }
   ],
   "source": [
    "result1=add1(1,2)"
   ]
  },
  {
   "cell_type": "code",
   "execution_count": 7,
   "id": "362391d6",
   "metadata": {},
   "outputs": [],
   "source": [
    "result1"
   ]
  },
  {
   "cell_type": "code",
   "execution_count": 8,
   "id": "97af9239",
   "metadata": {},
   "outputs": [],
   "source": [
    "#in the above,if we excute the result1 we r not getting output,\n",
    "#since the print wnt assign the value,it just prints"
   ]
  },
  {
   "cell_type": "code",
   "execution_count": 9,
   "id": "c2a5dd2c",
   "metadata": {},
   "outputs": [],
   "source": [
    "def add2(n,m):\n",
    "    return n+m"
   ]
  },
  {
   "cell_type": "code",
   "execution_count": 10,
   "id": "c51544a4",
   "metadata": {},
   "outputs": [],
   "source": [
    "result2=add2(1,2)"
   ]
  },
  {
   "cell_type": "code",
   "execution_count": 11,
   "id": "194b378c",
   "metadata": {},
   "outputs": [
    {
     "data": {
      "text/plain": [
       "3"
      ]
     },
     "execution_count": 11,
     "metadata": {},
     "output_type": "execute_result"
    }
   ],
   "source": [
    "result2"
   ]
  },
  {
   "cell_type": "code",
   "execution_count": 12,
   "id": "9d4e2fc0",
   "metadata": {},
   "outputs": [],
   "source": [
    "#in the above,if we excute the result2 we r getting output,\n",
    "#since the return assign the value to the output."
   ]
  },
  {
   "cell_type": "code",
   "execution_count": 13,
   "id": "9193ba67",
   "metadata": {},
   "outputs": [],
   "source": [
    "def even_check(num):\n",
    "    result = num%2==0\n",
    "    return result\n",
    "        "
   ]
  },
  {
   "cell_type": "code",
   "execution_count": 14,
   "id": "e311a69b",
   "metadata": {},
   "outputs": [
    {
     "data": {
      "text/plain": [
       "True"
      ]
     },
     "execution_count": 14,
     "metadata": {},
     "output_type": "execute_result"
    }
   ],
   "source": [
    "even_check(22)"
   ]
  },
  {
   "cell_type": "code",
   "execution_count": 15,
   "id": "fe1744bf",
   "metadata": {},
   "outputs": [
    {
     "data": {
      "text/plain": [
       "False"
      ]
     },
     "execution_count": 15,
     "metadata": {},
     "output_type": "execute_result"
    }
   ],
   "source": [
    "even_check(29)"
   ]
  },
  {
   "cell_type": "code",
   "execution_count": 16,
   "id": "59d6bf65",
   "metadata": {},
   "outputs": [],
   "source": [
    "#return true if the num is evn and present in a list"
   ]
  },
  {
   "cell_type": "code",
   "execution_count": 26,
   "id": "59a15e97",
   "metadata": {},
   "outputs": [],
   "source": [
    "def evencheck_list(num_list):\n",
    "    for number in num_list:\n",
    "        if number%2==0:\n",
    "            return True\n",
    "        else:\n",
    "            pass\n",
    "    return False"
   ]
  },
  {
   "cell_type": "code",
   "execution_count": 27,
   "id": "a772e10d",
   "metadata": {},
   "outputs": [
    {
     "data": {
      "text/plain": [
       "True"
      ]
     },
     "execution_count": 27,
     "metadata": {},
     "output_type": "execute_result"
    }
   ],
   "source": [
    "evencheck_list([1,2,3,4])"
   ]
  },
  {
   "cell_type": "code",
   "execution_count": 28,
   "id": "29f90874",
   "metadata": {},
   "outputs": [
    {
     "data": {
      "text/plain": [
       "False"
      ]
     },
     "execution_count": 28,
     "metadata": {},
     "output_type": "execute_result"
    }
   ],
   "source": [
    "evencheck_list([1,3,5])"
   ]
  },
  {
   "cell_type": "code",
   "execution_count": 29,
   "id": "33a9c5d7",
   "metadata": {},
   "outputs": [],
   "source": [
    "#return true if the num is evn and present in a list\n",
    "#return all even numbers in list"
   ]
  },
  {
   "cell_type": "code",
   "execution_count": 34,
   "id": "2576c760",
   "metadata": {},
   "outputs": [],
   "source": [
    "def evencheck_list1(num_list1):\n",
    "  \n",
    "    even_list=[]  #placeholder variables\n",
    "    for number1 in num_list1:\n",
    "        if number1%2==0:\n",
    "            even_list.append(number1)\n",
    "        else:\n",
    "            pass\n",
    "    return even_list"
   ]
  },
  {
   "cell_type": "code",
   "execution_count": 35,
   "id": "7dc0fbd8",
   "metadata": {},
   "outputs": [
    {
     "data": {
      "text/plain": [
       "[2, 4, 6]"
      ]
     },
     "execution_count": 35,
     "metadata": {},
     "output_type": "execute_result"
    }
   ],
   "source": [
    "evencheck_list1([1,2,3,4,5,6])"
   ]
  },
  {
   "cell_type": "code",
   "execution_count": 36,
   "id": "033b75de",
   "metadata": {},
   "outputs": [],
   "source": [
    "work_hours=[('Abdul',29),('Bussety',49),('Chandra',19)]"
   ]
  },
  {
   "cell_type": "code",
   "execution_count": 39,
   "id": "e5d7ebd7",
   "metadata": {},
   "outputs": [],
   "source": [
    "def empolyer_check(work_hours):\n",
    "    max_hours=0\n",
    "    empolyee_of_month=''\n",
    "    for name,hours in work_hours:\n",
    "        if hours > max_hours:\n",
    "            max_hours=hours\n",
    "            empolyee_of_month=name\n",
    "        else:\n",
    "            pass\n",
    "    return(empolyee_of_month,max_hours)"
   ]
  },
  {
   "cell_type": "code",
   "execution_count": 40,
   "id": "11cbc602",
   "metadata": {},
   "outputs": [
    {
     "data": {
      "text/plain": [
       "('Bussety', 49)"
      ]
     },
     "execution_count": 40,
     "metadata": {},
     "output_type": "execute_result"
    }
   ],
   "source": [
    "empolyer_check(work_hours)"
   ]
  },
  {
   "cell_type": "code",
   "execution_count": 45,
   "id": "587ed29b",
   "metadata": {},
   "outputs": [],
   "source": [
    "example=[1,2,3,4]\n",
    "from random import shuffle"
   ]
  },
  {
   "cell_type": "code",
   "execution_count": 52,
   "id": "278f1bca",
   "metadata": {},
   "outputs": [],
   "source": [
    "shuffle(example)\n",
    "#shuffle wnt give u result,bcoz the shuffle happend in the example itself"
   ]
  },
  {
   "cell_type": "code",
   "execution_count": 53,
   "id": "362e15b7",
   "metadata": {},
   "outputs": [
    {
     "data": {
      "text/plain": [
       "[4, 3, 1, 2]"
      ]
     },
     "execution_count": 53,
     "metadata": {},
     "output_type": "execute_result"
    }
   ],
   "source": [
    "example"
   ]
  },
  {
   "cell_type": "code",
   "execution_count": 46,
   "id": "860a68cf",
   "metadata": {},
   "outputs": [],
   "source": [
    "mylist=[' ','O',' ']"
   ]
  },
  {
   "cell_type": "code",
   "execution_count": 65,
   "id": "7a9652cf",
   "metadata": {},
   "outputs": [],
   "source": [
    "shuffle(mylist)"
   ]
  },
  {
   "cell_type": "code",
   "execution_count": 45,
   "id": "02109807",
   "metadata": {},
   "outputs": [
    {
     "data": {
      "text/plain": [
       "['O', ' ', ' ']"
      ]
     },
     "execution_count": 45,
     "metadata": {},
     "output_type": "execute_result"
    }
   ],
   "source": [
    "mylist"
   ]
  },
  {
   "cell_type": "code",
   "execution_count": null,
   "id": "ee510ec9",
   "metadata": {},
   "outputs": [],
   "source": [
    "#guess the location of O,if we go on shuffling the list"
   ]
  },
  {
   "cell_type": "code",
   "execution_count": 31,
   "id": "c3b56a19",
   "metadata": {},
   "outputs": [],
   "source": [
    "mynewlist=[' ','O',' ']"
   ]
  },
  {
   "cell_type": "code",
   "execution_count": 32,
   "id": "e8990502",
   "metadata": {},
   "outputs": [],
   "source": [
    "def shuffle_list(mynewlist):\n",
    "    shuffle(mynewlist)\n",
    "    return mynewlist"
   ]
  },
  {
   "cell_type": "code",
   "execution_count": 33,
   "id": "f4a65b58",
   "metadata": {},
   "outputs": [
    {
     "data": {
      "text/plain": [
       "[' ', ' ', 'O']"
      ]
     },
     "execution_count": 33,
     "metadata": {},
     "output_type": "execute_result"
    }
   ],
   "source": [
    "shuffle_list(mynewlist)"
   ]
  },
  {
   "cell_type": "code",
   "execution_count": 34,
   "id": "760c4c26",
   "metadata": {},
   "outputs": [],
   "source": [
    "def guess_num():\n",
    "    guess=''\n",
    "    while guess not in ['0','1','2']:\n",
    "        guess=input('Pick a number from 0,1,2')\n",
    "        \n",
    "    return int(guess)"
   ]
  },
  {
   "cell_type": "code",
   "execution_count": 85,
   "id": "81def7e5",
   "metadata": {},
   "outputs": [
    {
     "name": "stdout",
     "output_type": "stream",
     "text": [
      "Pick a number from 0,1,27\n",
      "Pick a number from 0,1,21\n"
     ]
    },
    {
     "data": {
      "text/plain": [
       "1"
      ]
     },
     "execution_count": 85,
     "metadata": {},
     "output_type": "execute_result"
    }
   ],
   "source": [
    "guess_num()"
   ]
  },
  {
   "cell_type": "code",
   "execution_count": 37,
   "id": "8f4f0dba",
   "metadata": {},
   "outputs": [],
   "source": [
    "def check_guess(mynewlist,guess):\n",
    "    if mynewlist[guess]=='O':\n",
    "        print('Correct')\n",
    "        print(mynewlist)\n",
    "    else:\n",
    "        print('wrng')\n",
    "        print(mynewlist)"
   ]
  },
  {
   "cell_type": "code",
   "execution_count": 38,
   "id": "986e1346",
   "metadata": {},
   "outputs": [
    {
     "name": "stdout",
     "output_type": "stream",
     "text": [
      "Pick a number from 0,1,20\n",
      "wrng\n",
      "[' ', ' ', 'O']\n"
     ]
    }
   ],
   "source": [
    "#Initial List\n",
    "mynewlist=[' ','O',' ']\n",
    "#Shuffle List\n",
    "mixed_list=shuffle_list(mynewlist)\n",
    "#Guess List\n",
    "guess=guess_num()\n",
    "#checklist\n",
    "check_guess(mixed_list,guess)"
   ]
  },
  {
   "cell_type": "code",
   "execution_count": 1,
   "id": "fc37c450",
   "metadata": {},
   "outputs": [],
   "source": [
    "mylist = [' ','O',' ']"
   ]
  },
  {
   "cell_type": "code",
   "execution_count": 5,
   "id": "c3ef888e",
   "metadata": {},
   "outputs": [],
   "source": [
    "from random import shuffle"
   ]
  },
  {
   "cell_type": "code",
   "execution_count": 6,
   "id": "0e42b1a9",
   "metadata": {},
   "outputs": [],
   "source": [
    "def shuffle_list(mylist):\n",
    "    shuffle(mylist)\n",
    "    return mylist"
   ]
  },
  {
   "cell_type": "code",
   "execution_count": 11,
   "id": "1d658fd9",
   "metadata": {},
   "outputs": [],
   "source": [
    "example=[1,2,3,4,5]"
   ]
  },
  {
   "cell_type": "code",
   "execution_count": 15,
   "id": "4fd052fe",
   "metadata": {},
   "outputs": [],
   "source": [
    "result = shuffle_list(example)"
   ]
  },
  {
   "cell_type": "code",
   "execution_count": 16,
   "id": "dea9b587",
   "metadata": {},
   "outputs": [
    {
     "data": {
      "text/plain": [
       "[3, 1, 5, 2, 4]"
      ]
     },
     "execution_count": 16,
     "metadata": {},
     "output_type": "execute_result"
    }
   ],
   "source": [
    "result"
   ]
  },
  {
   "cell_type": "code",
   "execution_count": 17,
   "id": "59fdffcc",
   "metadata": {},
   "outputs": [],
   "source": [
    "mylist = [' ','O',' ']"
   ]
  },
  {
   "cell_type": "code",
   "execution_count": 18,
   "id": "86c1f09a",
   "metadata": {},
   "outputs": [
    {
     "data": {
      "text/plain": [
       "[' ', ' ', 'O']"
      ]
     },
     "execution_count": 18,
     "metadata": {},
     "output_type": "execute_result"
    }
   ],
   "source": [
    "shuffle_list(mylist)"
   ]
  },
  {
   "cell_type": "code",
   "execution_count": 19,
   "id": "fcd025c4",
   "metadata": {},
   "outputs": [],
   "source": [
    "def player_guess():\n",
    "    \n",
    "    guess=''\n",
    "    while guess not in ['0','1','2']:\n",
    "        guess=input(\"pick a number 0,1,2\")\n",
    "        \n",
    "    return int(guess)"
   ]
  },
  {
   "cell_type": "code",
   "execution_count": 20,
   "id": "f77336f9",
   "metadata": {},
   "outputs": [
    {
     "name": "stdout",
     "output_type": "stream",
     "text": [
      "pick a number 0,1,28\n",
      "pick a number 0,1,21\n"
     ]
    },
    {
     "data": {
      "text/plain": [
       "1"
      ]
     },
     "execution_count": 20,
     "metadata": {},
     "output_type": "execute_result"
    }
   ],
   "source": [
    "player_guess()"
   ]
  },
  {
   "cell_type": "code",
   "execution_count": 22,
   "id": "df255409",
   "metadata": {},
   "outputs": [],
   "source": [
    "def check_guess(mylist,guess):\n",
    "    if mylist[guess] =='O':\n",
    "        print('Correct')\n",
    "    else:\n",
    "        print('Wrng')\n",
    "        print(mylist)"
   ]
  },
  {
   "cell_type": "code",
   "execution_count": 24,
   "id": "d73cba6b",
   "metadata": {},
   "outputs": [
    {
     "name": "stdout",
     "output_type": "stream",
     "text": [
      "pick a number 0,1,21\n",
      "Wrng\n",
      "[' ', ' ', 'O']\n"
     ]
    }
   ],
   "source": [
    "#Initial List\n",
    "mylist = [' ','O',' ']\n",
    "\n",
    "#Shuffle List\n",
    "mixedup_list = shuffle_list(mylist)\n",
    "\n",
    "#user guess\n",
    "guess = player_guess()\n",
    "\n",
    "#check guess\n",
    "check_guess(mixedup_list,guess)"
   ]
  },
  {
   "cell_type": "markdown",
   "id": "510cc266",
   "metadata": {},
   "source": [
    "# Arbitrary Arguments ( *args )\n",
    "If we are not sure with number of arguments that will be passed in our function, we can use * before the parameter name so that the function will receive a tuple of arguments, and we can access the items accordingly.\n"
   ]
  },
  {
   "cell_type": "markdown",
   "id": "d6eae063",
   "metadata": {},
   "source": [
    "# Arbitrary Keyword Arguments ( **kwargs )\n",
    "If we are not sure with number of keyword arguments that will be passed in our function, we can use ** before the parameter name so that the function will receive a dictionary of arguments, and we can access the items accordingly."
   ]
  },
  {
   "cell_type": "code",
   "execution_count": null,
   "id": "785ae60f",
   "metadata": {},
   "outputs": [],
   "source": []
  }
 ],
 "metadata": {
  "kernelspec": {
   "display_name": "Python 3 (ipykernel)",
   "language": "python",
   "name": "python3"
  },
  "language_info": {
   "codemirror_mode": {
    "name": "ipython",
    "version": 3
   },
   "file_extension": ".py",
   "mimetype": "text/x-python",
   "name": "python",
   "nbconvert_exporter": "python",
   "pygments_lexer": "ipython3",
   "version": "3.9.7"
  }
 },
 "nbformat": 4,
 "nbformat_minor": 5
}
