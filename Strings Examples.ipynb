{
 "cells": [
  {
   "cell_type": "code",
   "execution_count": 15,
   "id": "f9f84147",
   "metadata": {},
   "outputs": [],
   "source": [
    "#example 1\n",
    "#use for,.split() and if to create a statement that will printout words that starts with s "
   ]
  },
  {
   "cell_type": "code",
   "execution_count": 16,
   "id": "3eecc398",
   "metadata": {},
   "outputs": [
    {
     "data": {
      "text/plain": [
       "['print',\n",
       " 'only',\n",
       " 'the',\n",
       " 'words',\n",
       " 'that',\n",
       " 'starts',\n",
       " 'with',\n",
       " 's',\n",
       " 'in',\n",
       " 'this',\n",
       " 'sentence']"
      ]
     },
     "execution_count": 16,
     "metadata": {},
     "output_type": "execute_result"
    }
   ],
   "source": [
    "st='print only the words that starts with s in this sentence'\n",
    "p=st.split()\n",
    "p"
   ]
  },
  {
   "cell_type": "code",
   "execution_count": 17,
   "id": "6865fcbf",
   "metadata": {},
   "outputs": [
    {
     "name": "stdout",
     "output_type": "stream",
     "text": [
      "starts\n",
      "s\n",
      "sentence\n"
     ]
    }
   ],
   "source": [
    "st='print only the words that starts with s in this sentence'\n",
    "p=st.split()\n",
    "for a in p:\n",
    "    if a[0]=='s':\n",
    "        print(a)"
   ]
  },
  {
   "cell_type": "code",
   "execution_count": 18,
   "id": "aa2c362b",
   "metadata": {},
   "outputs": [],
   "source": [
    "#example 2\n",
    "#use range() to print all even numbers from 0 to 10"
   ]
  },
  {
   "cell_type": "code",
   "execution_count": 19,
   "id": "161948fb",
   "metadata": {},
   "outputs": [
    {
     "name": "stdout",
     "output_type": "stream",
     "text": [
      "0\n",
      "2\n",
      "4\n",
      "6\n",
      "8\n"
     ]
    }
   ],
   "source": [
    "for i in range(0,10):\n",
    "    if i%2==0:\n",
    "        print(i)"
   ]
  },
  {
   "cell_type": "code",
   "execution_count": 20,
   "id": "83a49296",
   "metadata": {},
   "outputs": [],
   "source": [
    "#example 3\n",
    "#use a list comprehension to create a list of all numbers between 1 and 50 that r divisible by 3"
   ]
  },
  {
   "cell_type": "code",
   "execution_count": 21,
   "id": "a0a8a851",
   "metadata": {},
   "outputs": [],
   "source": [
    "mylist=[]\n",
    "for i in range(1,50):\n",
    "    if i%3==0:\n",
    "        mylist.append(i)"
   ]
  },
  {
   "cell_type": "code",
   "execution_count": 22,
   "id": "ac9c560d",
   "metadata": {},
   "outputs": [
    {
     "data": {
      "text/plain": [
       "[3, 6, 9, 12, 15, 18, 21, 24, 27, 30, 33, 36, 39, 42, 45, 48]"
      ]
     },
     "execution_count": 22,
     "metadata": {},
     "output_type": "execute_result"
    }
   ],
   "source": [
    "mylist"
   ]
  },
  {
   "cell_type": "code",
   "execution_count": 23,
   "id": "9d1a94be",
   "metadata": {},
   "outputs": [],
   "source": [
    "#example 4\n",
    "#go through the string below and if the length of a word is even print 'even'\n"
   ]
  },
  {
   "cell_type": "code",
   "execution_count": 28,
   "id": "f27a9221",
   "metadata": {},
   "outputs": [
    {
     "name": "stdout",
     "output_type": "stream",
     "text": [
      "word\n",
      "in\n",
      "this\n",
      "sentence\n",
      "that\n",
      "an\n",
      "even\n",
      "number\n",
      "of\n"
     ]
    }
   ],
   "source": [
    "string1='print every word in this sentence that has an even number of letters'\n",
    "string2=string1.split()\n",
    "for letters in string2:\n",
    "    if len(letters)%2==0:\n",
    "        print(letters)"
   ]
  },
  {
   "cell_type": "code",
   "execution_count": 29,
   "id": "17a1fb26",
   "metadata": {},
   "outputs": [],
   "source": [
    "#example 5\n",
    "#write a prgm that prints the integers from 1 to 100 ,\n",
    "#but multiples of three print 'Fizz' instead of the number\n",
    "#and for multiples of five print 'Buzz',for number multiples of both 3 and 5 print'FIzzBuzz"
   ]
  },
  {
   "cell_type": "code",
   "execution_count": 33,
   "id": "152f9c5b",
   "metadata": {},
   "outputs": [
    {
     "name": "stdout",
     "output_type": "stream",
     "text": [
      "1\n",
      "2\n",
      "Fizz\n",
      "4\n",
      "Buzz\n",
      "Fizz\n",
      "7\n",
      "8\n",
      "Fizz\n",
      "Buzz\n",
      "11\n",
      "Fizz\n",
      "13\n",
      "14\n",
      "FizzBuzz\n",
      "16\n",
      "17\n",
      "Fizz\n",
      "19\n",
      "Buzz\n",
      "Fizz\n",
      "22\n",
      "23\n",
      "Fizz\n",
      "Buzz\n",
      "26\n",
      "Fizz\n",
      "28\n",
      "29\n",
      "FizzBuzz\n",
      "31\n",
      "32\n",
      "Fizz\n",
      "34\n",
      "Buzz\n",
      "Fizz\n",
      "37\n",
      "38\n",
      "Fizz\n",
      "Buzz\n",
      "41\n",
      "Fizz\n",
      "43\n",
      "44\n",
      "FizzBuzz\n",
      "46\n",
      "47\n",
      "Fizz\n",
      "49\n",
      "Buzz\n",
      "Fizz\n",
      "52\n",
      "53\n",
      "Fizz\n",
      "Buzz\n",
      "56\n",
      "Fizz\n",
      "58\n",
      "59\n",
      "FizzBuzz\n",
      "61\n",
      "62\n",
      "Fizz\n",
      "64\n",
      "Buzz\n",
      "Fizz\n",
      "67\n",
      "68\n",
      "Fizz\n",
      "Buzz\n",
      "71\n",
      "Fizz\n",
      "73\n",
      "74\n",
      "FizzBuzz\n",
      "76\n",
      "77\n",
      "Fizz\n",
      "79\n",
      "Buzz\n",
      "Fizz\n",
      "82\n",
      "83\n",
      "Fizz\n",
      "Buzz\n",
      "86\n",
      "Fizz\n",
      "88\n",
      "89\n",
      "FizzBuzz\n",
      "91\n",
      "92\n",
      "Fizz\n",
      "94\n",
      "Buzz\n",
      "Fizz\n",
      "97\n",
      "98\n",
      "Fizz\n"
     ]
    }
   ],
   "source": [
    "for n in range(1,100):\n",
    "    if n%3==0 and n%5==0:\n",
    "        print('FizzBuzz')\n",
    "    elif n%3==0:\n",
    "        print('Fizz')\n",
    "    elif n%5==0:\n",
    "        print('Buzz')\n",
    "    else:\n",
    "        print(n)"
   ]
  },
  {
   "cell_type": "code",
   "execution_count": 34,
   "id": "dcdf564e",
   "metadata": {},
   "outputs": [],
   "source": [
    "#example\n",
    "#Use list comprehension to create a list of the first letters of every word in the string below"
   ]
  },
  {
   "cell_type": "code",
   "execution_count": 35,
   "id": "ce072606",
   "metadata": {},
   "outputs": [],
   "source": [
    "st1='create a list of the first letters of every word in this string'"
   ]
  },
  {
   "cell_type": "code",
   "execution_count": 44,
   "id": "3c62e8c3",
   "metadata": {},
   "outputs": [],
   "source": [
    "st1='create a list of the first letters of every word in this string'\n",
    "st2=st1.split()\n",
    "mylist1=[]\n",
    "for p in st2:\n",
    "    mylist1.append(p[0])"
   ]
  },
  {
   "cell_type": "code",
   "execution_count": 45,
   "id": "5f3ee15b",
   "metadata": {},
   "outputs": [
    {
     "data": {
      "text/plain": [
       "['c', 'a', 'l', 'o', 't', 'f', 'l', 'o', 'e', 'w', 'i', 't', 's']"
      ]
     },
     "execution_count": 45,
     "metadata": {},
     "output_type": "execute_result"
    }
   ],
   "source": [
    "mylist1"
   ]
  },
  {
   "cell_type": "code",
   "execution_count": null,
   "id": "86bcc3fd",
   "metadata": {},
   "outputs": [],
   "source": []
  }
 ],
 "metadata": {
  "kernelspec": {
   "display_name": "Python 3 (ipykernel)",
   "language": "python",
   "name": "python3"
  },
  "language_info": {
   "codemirror_mode": {
    "name": "ipython",
    "version": 3
   },
   "file_extension": ".py",
   "mimetype": "text/x-python",
   "name": "python",
   "nbconvert_exporter": "python",
   "pygments_lexer": "ipython3",
   "version": "3.9.7"
  }
 },
 "nbformat": 4,
 "nbformat_minor": 5
}
