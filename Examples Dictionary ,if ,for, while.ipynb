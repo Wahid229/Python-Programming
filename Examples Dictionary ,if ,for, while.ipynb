{
 "cells": [
  {
   "cell_type": "code",
   "execution_count": 1,
   "id": "1830c2b5",
   "metadata": {},
   "outputs": [],
   "source": [
    "#Udemy examples"
   ]
  },
  {
   "cell_type": "code",
   "execution_count": 8,
   "id": "534fac22",
   "metadata": {},
   "outputs": [],
   "source": [
    "d={'k1':{'k2': 'hello'}}\n",
    "#grab hello"
   ]
  },
  {
   "cell_type": "code",
   "execution_count": 7,
   "id": "263fe4c5",
   "metadata": {},
   "outputs": [
    {
     "data": {
      "text/plain": [
       "'hello'"
      ]
     },
     "execution_count": 7,
     "metadata": {},
     "output_type": "execute_result"
    }
   ],
   "source": [
    "d['k1']['k2']"
   ]
  },
  {
   "cell_type": "code",
   "execution_count": 2,
   "id": "0ddc1b24",
   "metadata": {},
   "outputs": [],
   "source": [
    "d1={'k1':[{'nest_key':['this is deep',['hello']]}]}\n",
    "#grab hello"
   ]
  },
  {
   "cell_type": "code",
   "execution_count": 3,
   "id": "3936aad9",
   "metadata": {},
   "outputs": [
    {
     "data": {
      "text/plain": [
       "'hello'"
      ]
     },
     "execution_count": 3,
     "metadata": {},
     "output_type": "execute_result"
    }
   ],
   "source": [
    "d1['k1'][0]['nest_key'][1][0]"
   ]
  },
  {
   "cell_type": "code",
   "execution_count": 4,
   "id": "fb4d106b",
   "metadata": {},
   "outputs": [],
   "source": [
    "d2={'k1':[1,2,{'k2':['this is tricky',{'tough':[1,2,['hello']]}]}]}\n",
    "#grab hello"
   ]
  },
  {
   "cell_type": "code",
   "execution_count": 5,
   "id": "4c270534",
   "metadata": {},
   "outputs": [
    {
     "data": {
      "text/plain": [
       "'hello'"
      ]
     },
     "execution_count": 5,
     "metadata": {},
     "output_type": "execute_result"
    }
   ],
   "source": [
    "d2['k1'][2]['k2'][1]['tough'][2][0]"
   ]
  },
  {
   "cell_type": "code",
   "execution_count": 6,
   "id": "8b32c0b3",
   "metadata": {},
   "outputs": [
    {
     "name": "stdout",
     "output_type": "stream",
     "text": [
      "whats ur namewahid\n",
      "u r sha best frnd\n"
     ]
    }
   ],
   "source": [
    "name=input('whats ur name')\n",
    "if name== 'wahid':\n",
    "    print('u r sha best frnd')\n",
    "else:\n",
    "    print('wrng')"
   ]
  },
  {
   "cell_type": "code",
   "execution_count": 7,
   "id": "641af6cc",
   "metadata": {},
   "outputs": [
    {
     "name": "stdout",
     "output_type": "stream",
     "text": [
      "1\n",
      "2\n",
      "3\n",
      "4\n",
      "5\n",
      "6\n"
     ]
    }
   ],
   "source": [
    "mylist=[1,2,3,4,5,6]\n",
    "for c in mylist:\n",
    "    print(c)"
   ]
  },
  {
   "cell_type": "code",
   "execution_count": 8,
   "id": "7986508f",
   "metadata": {},
   "outputs": [
    {
     "data": {
      "text/plain": [
       "[1, 2, 3, 4, 5, 6]"
      ]
     },
     "execution_count": 8,
     "metadata": {},
     "output_type": "execute_result"
    }
   ],
   "source": [
    "mylist"
   ]
  },
  {
   "cell_type": "code",
   "execution_count": 12,
   "id": "5181910f",
   "metadata": {},
   "outputs": [],
   "source": [
    "mylist.append(7)\n",
    "mylist.append(8)"
   ]
  },
  {
   "cell_type": "code",
   "execution_count": 14,
   "id": "bf2bf5e6",
   "metadata": {},
   "outputs": [
    {
     "data": {
      "text/plain": [
       "[1, 2, 3, 4, 5, 6, 7, 7, 8]"
      ]
     },
     "execution_count": 14,
     "metadata": {},
     "output_type": "execute_result"
    }
   ],
   "source": [
    "mylist"
   ]
  },
  {
   "cell_type": "code",
   "execution_count": 21,
   "id": "f190f700",
   "metadata": {},
   "outputs": [
    {
     "name": "stdout",
     "output_type": "stream",
     "text": [
      "1 is odd\n",
      "2 is even\n",
      "3 is odd\n",
      "4 is even\n",
      "5 is odd\n",
      "6 is even\n",
      "7 is odd\n",
      "7 is odd\n",
      "8 is even\n"
     ]
    }
   ],
   "source": [
    "for c in mylist:\n",
    "    if c%2==0:\n",
    "        print(c,'is even')\n",
    "    else:\n",
    "        print(c,'is odd')"
   ]
  },
  {
   "cell_type": "code",
   "execution_count": 35,
   "id": "a9c6b7d7",
   "metadata": {},
   "outputs": [
    {
     "name": "stdout",
     "output_type": "stream",
     "text": [
      "43\n"
     ]
    }
   ],
   "source": [
    "sum1=0\n",
    "for d in mylist:\n",
    "    sum1=sum1+d\n",
    "print(sum1)"
   ]
  },
  {
   "cell_type": "code",
   "execution_count": 36,
   "id": "18037283",
   "metadata": {},
   "outputs": [],
   "source": [
    "mylist1=[(1,2),(3,4),(5,6),(7,8)]"
   ]
  },
  {
   "cell_type": "code",
   "execution_count": 37,
   "id": "72d8b24f",
   "metadata": {},
   "outputs": [
    {
     "name": "stdout",
     "output_type": "stream",
     "text": [
      "1\n",
      "3\n",
      "5\n",
      "7\n"
     ]
    }
   ],
   "source": [
    "for a,b in mylist1:\n",
    "    print(a)"
   ]
  },
  {
   "cell_type": "code",
   "execution_count": 38,
   "id": "ba70cb31",
   "metadata": {},
   "outputs": [],
   "source": [
    "dic={'n1':12,'n2':13}"
   ]
  },
  {
   "cell_type": "code",
   "execution_count": 40,
   "id": "958b2d6d",
   "metadata": {},
   "outputs": [
    {
     "name": "stdout",
     "output_type": "stream",
     "text": [
      "1\n",
      "2\n"
     ]
    }
   ],
   "source": [
    "for key,values in dic:\n",
    "    print(values)\n",
    "    "
   ]
  },
  {
   "cell_type": "code",
   "execution_count": 42,
   "id": "9c8d2e41",
   "metadata": {},
   "outputs": [
    {
     "name": "stdout",
     "output_type": "stream",
     "text": [
      "('n1', 12)\n",
      "('n2', 13)\n"
     ]
    }
   ],
   "source": [
    "for items in dic.items():\n",
    "    print(items)\n",
    "#by adding .items to the end of the dic,we can get both values"
   ]
  },
  {
   "cell_type": "code",
   "execution_count": 43,
   "id": "70c81d46",
   "metadata": {},
   "outputs": [
    {
     "name": "stdout",
     "output_type": "stream",
     "text": [
      "L\n",
      "a\n",
      "p\n",
      "t\n",
      "o\n",
      "p\n"
     ]
    }
   ],
   "source": [
    "mystring='Laptop'\n",
    "for c in mystring:\n",
    "    print(c)"
   ]
  },
  {
   "cell_type": "code",
   "execution_count": 49,
   "id": "aa1cbaab",
   "metadata": {},
   "outputs": [
    {
     "name": "stdout",
     "output_type": "stream",
     "text": [
      "L\n",
      "p\n",
      "t\n",
      "o\n",
      "p\n"
     ]
    }
   ],
   "source": [
    "#if i dnt want letter 'a' then i have to use continue\n",
    "mystring='Laptop'\n",
    "for c in mystring:\n",
    "    if c=='a':\n",
    "        continue #ikada kuda continue use chesthaney print degara poledu,for loop degara poyindi\n",
    "    print(c)\n"
   ]
  },
  {
   "cell_type": "markdown",
   "id": "9b7f9809",
   "metadata": {},
   "source": [
    "# pass : do nothing\n",
    "#continue : goes to the top of the closest enclosing loop\n",
    "#break: breaks out the current closest enclosing loop"
   ]
  },
  {
   "cell_type": "code",
   "execution_count": 50,
   "id": "dea66c6d",
   "metadata": {},
   "outputs": [
    {
     "name": "stdout",
     "output_type": "stream",
     "text": [
      "L\n"
     ]
    }
   ],
   "source": [
    "#if i want to stop after printing the first one\n",
    "mystring='Laptop'\n",
    "for c in mystring:\n",
    "    if c=='a':\n",
    "        break #since c=a,the loops breaks here and gives output\n",
    "    print(c)\n"
   ]
  },
  {
   "cell_type": "code",
   "execution_count": 52,
   "id": "95adf321",
   "metadata": {},
   "outputs": [
    {
     "name": "stdout",
     "output_type": "stream",
     "text": [
      "at index 0 the letter is a\n",
      "at index 1 the letter is b\n",
      "at index 2 the letter is c\n",
      "at index 3 the letter is d\n",
      "at index 4 the letter is e\n",
      "at index 5 the letter is f\n"
     ]
    }
   ],
   "source": [
    "count=0\n",
    "for letter in 'abcdef':\n",
    "    print('at index {} the letter is {}'.format(count,letter))\n",
    "    count=count+1"
   ]
  },
  {
   "cell_type": "code",
   "execution_count": 53,
   "id": "69cd7567",
   "metadata": {},
   "outputs": [
    {
     "name": "stdout",
     "output_type": "stream",
     "text": [
      "(0, 'a')\n",
      "(1, 'b')\n",
      "(2, 'c')\n",
      "(3, 'd')\n",
      "(4, 'e')\n",
      "(5, 'f')\n"
     ]
    }
   ],
   "source": [
    "#method 2\n",
    "word='abcdef'\n",
    "for letter in enumerate(word):\n",
    "    print(letter)"
   ]
  },
  {
   "cell_type": "code",
   "execution_count": 55,
   "id": "b4621afd",
   "metadata": {},
   "outputs": [
    {
     "name": "stdout",
     "output_type": "stream",
     "text": [
      "0\n",
      "a\n",
      "\n",
      "\n",
      "1\n",
      "b\n",
      "\n",
      "\n",
      "2\n",
      "c\n",
      "\n",
      "\n",
      "3\n",
      "d\n",
      "\n",
      "\n",
      "4\n",
      "e\n",
      "\n",
      "\n",
      "5\n",
      "f\n",
      "\n",
      "\n"
     ]
    }
   ],
   "source": [
    "#method for printing both\n",
    "word='abcdef'\n",
    "for index,letter in enumerate(word):\n",
    "    print(index)\n",
    "    print(letter)\n",
    "    print('\\n')"
   ]
  },
  {
   "cell_type": "code",
   "execution_count": 56,
   "id": "9e485b76",
   "metadata": {},
   "outputs": [],
   "source": [
    "list5=[1,2,3]\n",
    "list6=['a','b','c']\n"
   ]
  },
  {
   "cell_type": "code",
   "execution_count": 57,
   "id": "fb972d74",
   "metadata": {},
   "outputs": [
    {
     "name": "stdout",
     "output_type": "stream",
     "text": [
      "(1, 'a')\n",
      "(2, 'b')\n",
      "(3, 'c')\n"
     ]
    }
   ],
   "source": [
    "for item in zip(list5,list6):\n",
    "    print(item)"
   ]
  },
  {
   "cell_type": "markdown",
   "id": "3b5127df",
   "metadata": {},
   "source": [
    "# here the zip is used as zipper ,zipped together two lists making it tuple and match together"
   ]
  },
  {
   "cell_type": "code",
   "execution_count": 58,
   "id": "632f868b",
   "metadata": {},
   "outputs": [
    {
     "data": {
      "text/plain": [
       "[(1, 'a'), (2, 'b'), (3, 'c')]"
      ]
     },
     "execution_count": 58,
     "metadata": {},
     "output_type": "execute_result"
    }
   ],
   "source": [
    "list(zip(list5,list6))"
   ]
  },
  {
   "cell_type": "code",
   "execution_count": 59,
   "id": "5b93e03e",
   "metadata": {},
   "outputs": [],
   "source": [
    "list7=[1,2,3,4,5,6,7,8]"
   ]
  },
  {
   "cell_type": "code",
   "execution_count": 60,
   "id": "c378a7b7",
   "metadata": {},
   "outputs": [],
   "source": [
    "from random import shuffle"
   ]
  },
  {
   "cell_type": "code",
   "execution_count": 62,
   "id": "ceb4b807",
   "metadata": {},
   "outputs": [],
   "source": [
    "list7=[1,2,3,4,5,6,7,8]"
   ]
  },
  {
   "cell_type": "code",
   "execution_count": 66,
   "id": "647a5dbe",
   "metadata": {},
   "outputs": [],
   "source": [
    "shuffle(list7)"
   ]
  },
  {
   "cell_type": "code",
   "execution_count": 67,
   "id": "8dc2d14f",
   "metadata": {},
   "outputs": [
    {
     "ename": "NameError",
     "evalue": "name 'randint' is not defined",
     "output_type": "error",
     "traceback": [
      "\u001b[1;31m---------------------------------------------------------------------------\u001b[0m",
      "\u001b[1;31mNameError\u001b[0m                                 Traceback (most recent call last)",
      "\u001b[1;32mC:\\Users\\ABDULW~1\\AppData\\Local\\Temp/ipykernel_5684/3383751940.py\u001b[0m in \u001b[0;36m<module>\u001b[1;34m\u001b[0m\n\u001b[1;32m----> 1\u001b[1;33m \u001b[0mrandint\u001b[0m\u001b[1;33m(\u001b[0m\u001b[1;36m0\u001b[0m\u001b[1;33m,\u001b[0m\u001b[1;36m100\u001b[0m\u001b[1;33m)\u001b[0m\u001b[1;33m\u001b[0m\u001b[1;33m\u001b[0m\u001b[0m\n\u001b[0m",
      "\u001b[1;31mNameError\u001b[0m: name 'randint' is not defined"
     ]
    }
   ],
   "source": [
    "randint(0,100)"
   ]
  },
  {
   "cell_type": "code",
   "execution_count": 72,
   "id": "b5f0f9af",
   "metadata": {},
   "outputs": [],
   "source": [
    "mynewstring='hello'"
   ]
  },
  {
   "cell_type": "code",
   "execution_count": 73,
   "id": "7a36eb91",
   "metadata": {},
   "outputs": [
    {
     "name": "stdout",
     "output_type": "stream",
     "text": [
      "h\n",
      "e\n",
      "l\n",
      "l\n",
      "o\n"
     ]
    }
   ],
   "source": [
    "for c in mynewstring:\n",
    "    print(c)"
   ]
  },
  {
   "cell_type": "code",
   "execution_count": 76,
   "id": "a8bb45c4",
   "metadata": {},
   "outputs": [],
   "source": [
    "mylist=[]\n",
    "for letter in mynewstring:\n",
    "    mylist.append(letter)\n",
    "    "
   ]
  },
  {
   "cell_type": "code",
   "execution_count": 77,
   "id": "a0d357f9",
   "metadata": {},
   "outputs": [
    {
     "data": {
      "text/plain": [
       "['h', 'e', 'l', 'l', 'o']"
      ]
     },
     "execution_count": 77,
     "metadata": {},
     "output_type": "execute_result"
    }
   ],
   "source": [
    "mylist"
   ]
  },
  {
   "cell_type": "code",
   "execution_count": 78,
   "id": "2babb871",
   "metadata": {},
   "outputs": [],
   "source": [
    "list8=[num for num in range(10)]"
   ]
  },
  {
   "cell_type": "code",
   "execution_count": 79,
   "id": "17746586",
   "metadata": {},
   "outputs": [
    {
     "data": {
      "text/plain": [
       "[0, 1, 2, 3, 4, 5, 6, 7, 8, 9]"
      ]
     },
     "execution_count": 79,
     "metadata": {},
     "output_type": "execute_result"
    }
   ],
   "source": [
    "list8"
   ]
  },
  {
   "cell_type": "code",
   "execution_count": 80,
   "id": "727203d5",
   "metadata": {},
   "outputs": [],
   "source": [
    "list9=[num for num in range (0,10) if num%2==0]"
   ]
  },
  {
   "cell_type": "code",
   "execution_count": 81,
   "id": "abf6a0ac",
   "metadata": {},
   "outputs": [
    {
     "data": {
      "text/plain": [
       "[0, 2, 4, 6, 8]"
      ]
     },
     "execution_count": 81,
     "metadata": {},
     "output_type": "execute_result"
    }
   ],
   "source": [
    "list9"
   ]
  },
  {
   "cell_type": "code",
   "execution_count": 82,
   "id": "bb24e952",
   "metadata": {},
   "outputs": [
    {
     "name": "stdout",
     "output_type": "stream",
     "text": [
      "even\n",
      "oddd\n",
      "even\n",
      "oddd\n",
      "even\n",
      "oddd\n",
      "even\n",
      "oddd\n",
      "even\n",
      "oddd\n"
     ]
    }
   ],
   "source": [
    "for x in range(0,10):\n",
    "    if x%2==0:\n",
    "        print('even')\n",
    "    else:\n",
    "        print('oddd')"
   ]
  },
  {
   "cell_type": "code",
   "execution_count": 84,
   "id": "5d51454c",
   "metadata": {},
   "outputs": [],
   "source": [
    "mylist=[]\n",
    "for x in [1,2,3]:\n",
    "    for y in [4,5,6]:\n",
    "        mylist.append(x*y)"
   ]
  },
  {
   "cell_type": "code",
   "execution_count": 86,
   "id": "7588fcf4",
   "metadata": {},
   "outputs": [
    {
     "data": {
      "text/plain": [
       "[4, 5, 6, 8, 10, 12, 12, 15, 18]"
      ]
     },
     "execution_count": 86,
     "metadata": {},
     "output_type": "execute_result"
    }
   ],
   "source": [
    "mylist"
   ]
  },
  {
   "cell_type": "code",
   "execution_count": 87,
   "id": "a42094e9",
   "metadata": {},
   "outputs": [],
   "source": [
    "#method2\n",
    "mylist1=[n*m for n in [1,2,3] for m in [4,5,6]]"
   ]
  },
  {
   "cell_type": "code",
   "execution_count": 88,
   "id": "365c9798",
   "metadata": {},
   "outputs": [
    {
     "data": {
      "text/plain": [
       "[4, 5, 6, 8, 10, 12, 12, 15, 18]"
      ]
     },
     "execution_count": 88,
     "metadata": {},
     "output_type": "execute_result"
    }
   ],
   "source": [
    "mylist1"
   ]
  },
  {
   "cell_type": "code",
   "execution_count": null,
   "id": "18fe4bd3",
   "metadata": {},
   "outputs": [],
   "source": []
  }
 ],
 "metadata": {
  "kernelspec": {
   "display_name": "Python 3 (ipykernel)",
   "language": "python",
   "name": "python3"
  },
  "language_info": {
   "codemirror_mode": {
    "name": "ipython",
    "version": 3
   },
   "file_extension": ".py",
   "mimetype": "text/x-python",
   "name": "python",
   "nbconvert_exporter": "python",
   "pygments_lexer": "ipython3",
   "version": "3.9.7"
  }
 },
 "nbformat": 4,
 "nbformat_minor": 5
}
