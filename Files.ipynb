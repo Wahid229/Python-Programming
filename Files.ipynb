{
 "cells": [
  {
   "cell_type": "code",
   "execution_count": 1,
   "id": "76e991a9",
   "metadata": {},
   "outputs": [
    {
     "data": {
      "text/plain": [
       "'C:\\\\Users\\\\Abdul Wahid\\\\My Files'"
      ]
     },
     "execution_count": 1,
     "metadata": {},
     "output_type": "execute_result"
    }
   ],
   "source": [
    "pwd"
   ]
  },
  {
   "cell_type": "code",
   "execution_count": 31,
   "id": "6446d40e",
   "metadata": {},
   "outputs": [],
   "source": [
    "myfile=open('myfile.txt.txt')"
   ]
  },
  {
   "cell_type": "code",
   "execution_count": 4,
   "id": "f9b3c273",
   "metadata": {},
   "outputs": [
    {
     "data": {
      "text/plain": [
       "<_io.TextIOWrapper name='myfile.txt.txt' mode='r' encoding='cp1252'>"
      ]
     },
     "execution_count": 4,
     "metadata": {},
     "output_type": "execute_result"
    }
   ],
   "source": [
    "myfile"
   ]
  },
  {
   "cell_type": "code",
   "execution_count": 32,
   "id": "4bc8361c",
   "metadata": {},
   "outputs": [
    {
     "data": {
      "text/plain": [
       "'hey this is abdul wahidHow are youHow are you'"
      ]
     },
     "execution_count": 32,
     "metadata": {},
     "output_type": "execute_result"
    }
   ],
   "source": [
    "myfile.read()"
   ]
  },
  {
   "cell_type": "code",
   "execution_count": 6,
   "id": "e0eb8682",
   "metadata": {},
   "outputs": [
    {
     "data": {
      "text/plain": [
       "''"
      ]
     },
     "execution_count": 6,
     "metadata": {},
     "output_type": "execute_result"
    }
   ],
   "source": [
    "myfile.read()"
   ]
  },
  {
   "cell_type": "code",
   "execution_count": 7,
   "id": "9349626b",
   "metadata": {},
   "outputs": [],
   "source": [
    "#we already had read the file,so if we read it again it will show only ''\n",
    "#to avoid this we have to use seek() to reset it"
   ]
  },
  {
   "cell_type": "code",
   "execution_count": 33,
   "id": "2a28131e",
   "metadata": {},
   "outputs": [
    {
     "data": {
      "text/plain": [
       "0"
      ]
     },
     "execution_count": 33,
     "metadata": {},
     "output_type": "execute_result"
    }
   ],
   "source": [
    "myfile.seek(0)"
   ]
  },
  {
   "cell_type": "code",
   "execution_count": 34,
   "id": "0402c287",
   "metadata": {},
   "outputs": [
    {
     "data": {
      "text/plain": [
       "'hey this is abdul wahidHow are youHow are you'"
      ]
     },
     "execution_count": 34,
     "metadata": {},
     "output_type": "execute_result"
    }
   ],
   "source": [
    "myfile.read()\n",
    "#here i have excuted twice,so i got the updates result"
   ]
  },
  {
   "cell_type": "code",
   "execution_count": 35,
   "id": "6e7ae68a",
   "metadata": {},
   "outputs": [
    {
     "name": "stdout",
     "output_type": "stream",
     "text": [
      "hey this is abdul wahidHow are youHow are you\n"
     ]
    }
   ],
   "source": [
    "with open('myfile.txt.txt', mode='r') as f:\n",
    "    print(f.read())"
   ]
  },
  {
   "cell_type": "code",
   "execution_count": 36,
   "id": "68a64fdc",
   "metadata": {},
   "outputs": [],
   "source": [
    "with open('myfile.txt.txt', mode='a') as f:\n",
    "    f.write('How are you')"
   ]
  },
  {
   "cell_type": "code",
   "execution_count": 37,
   "id": "b7340f36",
   "metadata": {},
   "outputs": [
    {
     "name": "stdout",
     "output_type": "stream",
     "text": [
      "hey this is abdul wahidHow are youHow are youHow are you\n"
     ]
    }
   ],
   "source": [
    "with open('myfile.txt.txt',mode='r') as f:\n",
    "    print(f.read())"
   ]
  },
  {
   "cell_type": "code",
   "execution_count": 39,
   "id": "e708cd12",
   "metadata": {},
   "outputs": [],
   "source": [
    "with open('mynewfile.txt',mode='w') as g:\n",
    "    g.write('Uzumaki Naruto')"
   ]
  },
  {
   "cell_type": "code",
   "execution_count": 41,
   "id": "a2c7a33c",
   "metadata": {},
   "outputs": [
    {
     "name": "stdout",
     "output_type": "stream",
     "text": [
      "Uzumaki Naruto\n"
     ]
    }
   ],
   "source": [
    "with open('mynewfile.txt', mode='r') as g:\n",
    "    print(g.read())"
   ]
  },
  {
   "cell_type": "code",
   "execution_count": 42,
   "id": "508c8ba5",
   "metadata": {},
   "outputs": [],
   "source": [
    "h=open('cities','w')"
   ]
  },
  {
   "cell_type": "code",
   "execution_count": 46,
   "id": "c662f942",
   "metadata": {},
   "outputs": [],
   "source": [
    "with open('cities.txt',mode='w') as h:\n",
    "    h.write('Dublin,Berlin,Mumbai')"
   ]
  },
  {
   "cell_type": "code",
   "execution_count": 47,
   "id": "6e052c12",
   "metadata": {},
   "outputs": [
    {
     "name": "stdout",
     "output_type": "stream",
     "text": [
      "Dublin,Berlin,Mumbai\n"
     ]
    }
   ],
   "source": [
    "with open('cities.txt',mode='r') as h:\n",
    "    print(h.read())"
   ]
  },
  {
   "cell_type": "code",
   "execution_count": 4,
   "id": "4449b475",
   "metadata": {},
   "outputs": [],
   "source": [
    "q=open('demo.txt','w')"
   ]
  },
  {
   "cell_type": "code",
   "execution_count": 5,
   "id": "2f0e6e4d",
   "metadata": {},
   "outputs": [],
   "source": [
    "q.write('This is testing')\n",
    "q.close()"
   ]
  },
  {
   "cell_type": "code",
   "execution_count": 6,
   "id": "d7e54820",
   "metadata": {},
   "outputs": [
    {
     "data": {
      "text/plain": [
       "'This is testing'"
      ]
     },
     "execution_count": 6,
     "metadata": {},
     "output_type": "execute_result"
    }
   ],
   "source": [
    "q=open('demo.txt','r')\n",
    "q.read()"
   ]
  },
  {
   "cell_type": "code",
   "execution_count": 7,
   "id": "ad84b448",
   "metadata": {},
   "outputs": [],
   "source": [
    "q=open('demo.txt','a')\n",
    "q.write('\\nTESTING NUMBER 2')\n",
    "q.close()"
   ]
  },
  {
   "cell_type": "code",
   "execution_count": 55,
   "id": "835f4366",
   "metadata": {},
   "outputs": [
    {
     "data": {
      "text/plain": [
       "'This is testing\\nTESTING NUMBER 2'"
      ]
     },
     "execution_count": 55,
     "metadata": {},
     "output_type": "execute_result"
    }
   ],
   "source": [
    "q=open('demo.txt','r')\n",
    "q.read()"
   ]
  },
  {
   "cell_type": "code",
   "execution_count": 57,
   "id": "7b037c05",
   "metadata": {},
   "outputs": [
    {
     "name": "stdout",
     "output_type": "stream",
     "text": [
      "hellohihey\n"
     ]
    }
   ],
   "source": [
    "print('{}{}{}'.format('hello','hi','hey'))\n",
    "#testing"
   ]
  },
  {
   "cell_type": "code",
   "execution_count": null,
   "id": "a31ff87e",
   "metadata": {},
   "outputs": [],
   "source": []
  }
 ],
 "metadata": {
  "kernelspec": {
   "display_name": "Python 3 (ipykernel)",
   "language": "python",
   "name": "python3"
  },
  "language_info": {
   "codemirror_mode": {
    "name": "ipython",
    "version": 3
   },
   "file_extension": ".py",
   "mimetype": "text/x-python",
   "name": "python",
   "nbconvert_exporter": "python",
   "pygments_lexer": "ipython3",
   "version": "3.9.7"
  }
 },
 "nbformat": 4,
 "nbformat_minor": 5
}
