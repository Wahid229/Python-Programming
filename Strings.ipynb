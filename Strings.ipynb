{
 "cells": [
  {
   "cell_type": "code",
   "execution_count": 1,
   "id": "a39bf7b8",
   "metadata": {},
   "outputs": [],
   "source": [
    "mystring=\"hello world\""
   ]
  },
  {
   "cell_type": "code",
   "execution_count": 2,
   "id": "750013b3",
   "metadata": {},
   "outputs": [
    {
     "data": {
      "text/plain": [
       "'dlrow olleh'"
      ]
     },
     "execution_count": 2,
     "metadata": {},
     "output_type": "execute_result"
    }
   ],
   "source": [
    "mystring[::-1]\n",
    "#Reverse the string"
   ]
  },
  {
   "cell_type": "code",
   "execution_count": 3,
   "id": "ef570b6c",
   "metadata": {},
   "outputs": [
    {
     "data": {
      "text/plain": [
       "['hello', 'world']"
      ]
     },
     "execution_count": 3,
     "metadata": {},
     "output_type": "execute_result"
    }
   ],
   "source": [
    "mystring.split()\n",
    "#spliting the string"
   ]
  },
  {
   "cell_type": "code",
   "execution_count": 4,
   "id": "77af2388",
   "metadata": {},
   "outputs": [
    {
     "data": {
      "text/plain": [
       "['he', '', 'o wor', 'd']"
      ]
     },
     "execution_count": 4,
     "metadata": {},
     "output_type": "execute_result"
    }
   ],
   "source": [
    "mystring.split('l')"
   ]
  },
  {
   "cell_type": "markdown",
   "id": "9be82ade",
   "metadata": {},
   "source": [
    "# formating with String using format"
   ]
  },
  {
   "cell_type": "code",
   "execution_count": 6,
   "id": "e00df81a",
   "metadata": {},
   "outputs": [
    {
     "name": "stdout",
     "output_type": "stream",
     "text": [
      "the fox brown quick\n"
     ]
    }
   ],
   "source": [
    "print('the {} {} {}'.format('fox','brown','quick'))"
   ]
  },
  {
   "cell_type": "code",
   "execution_count": 7,
   "id": "da8388e8",
   "metadata": {},
   "outputs": [
    {
     "name": "stdout",
     "output_type": "stream",
     "text": [
      "the brown fox quick\n"
     ]
    }
   ],
   "source": [
    "print('the {1} {0} {2}'.format('fox','brown','quick'))"
   ]
  },
  {
   "cell_type": "code",
   "execution_count": 8,
   "id": "f7c18e4f",
   "metadata": {},
   "outputs": [],
   "source": [
    "result=100/777"
   ]
  },
  {
   "cell_type": "code",
   "execution_count": 9,
   "id": "69071656",
   "metadata": {},
   "outputs": [
    {
     "data": {
      "text/plain": [
       "0.1287001287001287"
      ]
     },
     "execution_count": 9,
     "metadata": {},
     "output_type": "execute_result"
    }
   ],
   "source": [
    "result"
   ]
  },
  {
   "cell_type": "code",
   "execution_count": 10,
   "id": "7d27afa4",
   "metadata": {},
   "outputs": [
    {
     "name": "stdout",
     "output_type": "stream",
     "text": [
      "the result is 0.1287001287001287\n"
     ]
    }
   ],
   "source": [
    "print('the result is {}'.format(result))"
   ]
  },
  {
   "cell_type": "code",
   "execution_count": 12,
   "id": "ce6387cd",
   "metadata": {},
   "outputs": [
    {
     "name": "stdout",
     "output_type": "stream",
     "text": [
      "the result is 0.129\n"
     ]
    }
   ],
   "source": [
    "print('the result is {r:1.3f}'.format(r=result))\n",
    "#since we mentioned .3f,it will round off to 3 decimals"
   ]
  },
  {
   "cell_type": "code",
   "execution_count": 14,
   "id": "be69e8fe",
   "metadata": {},
   "outputs": [
    {
     "name": "stdout",
     "output_type": "stream",
     "text": [
      "the result is      0.129\n"
     ]
    }
   ],
   "source": [
    "print('the result is {r:10.3f}'.format(r=result))\n",
    "#since we addded 10,it will give 10 spaces"
   ]
  },
  {
   "cell_type": "code",
   "execution_count": 15,
   "id": "e1287a34",
   "metadata": {},
   "outputs": [
    {
     "name": "stdout",
     "output_type": "stream",
     "text": [
      "No. of vowels : 7\n"
     ]
    }
   ],
   "source": [
    "#code to count vowel in a string using set\n",
    "\n",
    "def vowel_count(str):\n",
    "\n",
    "    count = 0\n",
    "    vowel = set(\"aeiouAEIOU\")\n",
    "\n",
    "    for alphabet in str:\n",
    "\n",
    "        if alphabet in vowel:\n",
    "            count = count + 1\n",
    "\n",
    "    print(\"No. of vowels :\", count)\n",
    "\n",
    "str = \"This is Trail Example\"\n",
    "\n",
    "vowel_count(str)\n"
   ]
  },
  {
   "cell_type": "code",
   "execution_count": 16,
   "id": "dea87444",
   "metadata": {},
   "outputs": [],
   "source": [
    "str = \"This is Trail Example\""
   ]
  },
  {
   "cell_type": "code",
   "execution_count": 17,
   "id": "49df0793",
   "metadata": {},
   "outputs": [
    {
     "data": {
      "text/plain": [
       "'elpmaxE liarT si sihT'"
      ]
     },
     "execution_count": 17,
     "metadata": {},
     "output_type": "execute_result"
    }
   ],
   "source": [
    "str[::-1]"
   ]
  },
  {
   "cell_type": "code",
   "execution_count": null,
   "id": "e6bd4ff9",
   "metadata": {},
   "outputs": [],
   "source": []
  }
 ],
 "metadata": {
  "kernelspec": {
   "display_name": "Python 3 (ipykernel)",
   "language": "python",
   "name": "python3"
  },
  "language_info": {
   "codemirror_mode": {
    "name": "ipython",
    "version": 3
   },
   "file_extension": ".py",
   "mimetype": "text/x-python",
   "name": "python",
   "nbconvert_exporter": "python",
   "pygments_lexer": "ipython3",
   "version": "3.9.7"
  }
 },
 "nbformat": 4,
 "nbformat_minor": 5
}
